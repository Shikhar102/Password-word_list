{
 "cells": [
  {
   "cell_type": "raw",
   "id": "768c24d6-3a93-45f7-a8f9-675b6da37a0b",
   "metadata": {},
   "source": [
    "# Importing ASCII letters (uppercase and lowercase) and punctuation from the 'string' module.\n",
    "from string import *\n",
    "\n",
    "# Importing the 'product' function from the 'itertools' module for generating Cartesian product.\n",
    "from itertools import product "
   ]
  },
  {
   "cell_type": "code",
   "execution_count": 8,
   "id": "4f5e6200-3cf8-41e4-9db1-65acf14f319b",
   "metadata": {},
   "outputs": [
    {
     "data": {
      "text/plain": [
       "'abcdefghijklmnopqrstuvwxyzABCDEFGHIJKLMNOPQRSTUVWXYZ!\"#$%&\\'()*+,-./:;<=>?@[\\\\]^_`{|}~0123456789'"
      ]
     },
     "execution_count": 8,
     "metadata": {},
     "output_type": "execute_result"
    }
   ],
   "source": [
    "# Concatenate ASCII letters, punctuation, and digits to create the character set for password generation.\n",
    "value = ascii_letters + punctuation + digits\n"
   ]
  },
  {
   "cell_type": "code",
   "execution_count": 13,
   "id": "7912f845-678a-4dad-9973-c4f7a21e170c",
   "metadata": {},
   "outputs": [],
   "source": [
    "# Open \"Password.csv\" file in append mode using a context manager (with statement).\n",
    "with open(\"Password.csv\", \"a\") as p:\n",
    "\n",
    "    # Generate passwords of length 1 to 4 characters.\n",
    "    for i in range(0,4):\n",
    "        for j in product(value, repeat = i):    # Start from 1 to avoid an empty password\n",
    "\n",
    "            # Join characters to form a password.\n",
    "            word = \"\".join(j)\n",
    "            \n",
    "            # Write the generated password to the file.\n",
    "            p.write(word)\n",
    "\n",
    "             # Add a newline character to separate passwords.\n",
    "            p.write(\"\\n\")\n",
    "\n",
    "# The script concludes, and the file is automatically closed due to the use of a context manager."
   ]
  },
  {
   "cell_type": "code",
   "execution_count": null,
   "id": "0281fb07-d917-4572-9a05-c16936814272",
   "metadata": {},
   "outputs": [],
   "source": []
  }
 ],
 "metadata": {
  "kernelspec": {
   "display_name": "Python 3 (ipykernel)",
   "language": "python",
   "name": "python3"
  },
  "language_info": {
   "codemirror_mode": {
    "name": "ipython",
    "version": 3
   },
   "file_extension": ".py",
   "mimetype": "text/x-python",
   "name": "python",
   "nbconvert_exporter": "python",
   "pygments_lexer": "ipython3",
   "version": "3.11.3"
  }
 },
 "nbformat": 4,
 "nbformat_minor": 5
}
